{
 "cells": [
  {
   "cell_type": "code",
   "execution_count": 131,
   "id": "edcc5a52",
   "metadata": {},
   "outputs": [],
   "source": [
    "from vecstack import stacking\n",
    "import pandas as pd\n",
    "import numpy as np\n",
    "from sklearn.metrics import accuracy_score #works\n",
    "from sklearn.model_selection import train_test_split\n",
    "from sklearn.ensemble import RandomForestClassifier\n",
    "from sklearn.tree import DecisionTreeClassifier\n",
    "from sklearn.model_selection import GridSearchCV\n",
    "from sklearn.model_selection import RandomizedSearchCV\n",
    "from sklearn.model_selection import cross_val_score\n",
    "from sklearn.metrics import classification_report, confusion_matrix\n",
    "from sklearn.ensemble import GradientBoostingClassifier\n",
    "from sklearn.neural_network import MLPClassifier\n",
    "#from sklearn.ensemble import RandomForestClassifier\n",
    "from imblearn.over_sampling import SMOTE \n",
    "from sklearn.svm import SVC\n",
    "from collections import Counter #for Smote, \n",
    "\n",
    "\n",
    "# Special settings for Python notebook\n",
    "%matplotlib inline\n",
    "\n",
    "# Ignore FutureWarnings related to internal pandas and np code\n",
    "import warnings\n",
    "warnings.simplefilter(action='ignore', category=FutureWarning)\n"
   ]
  },
  {
   "cell_type": "code",
   "execution_count": 97,
   "id": "d2a87797",
   "metadata": {},
   "outputs": [
    {
     "name": "stdout",
     "output_type": "stream",
     "text": [
      "Shape of train data\n",
      "(1460, 81)\n",
      "(1459, 80)\n",
      "   Id  MSSubClass MSZoning  LotFrontage  LotArea Street Alley LotShape  \\\n",
      "0   1          60       RL         65.0     8450   Pave   NaN      Reg   \n",
      "1   2          20       RL         80.0     9600   Pave   NaN      Reg   \n",
      "2   3          60       RL         68.0    11250   Pave   NaN      IR1   \n",
      "3   4          70       RL         60.0     9550   Pave   NaN      IR1   \n",
      "4   5          60       RL         84.0    14260   Pave   NaN      IR1   \n",
      "\n",
      "  LandContour Utilities  ... PoolArea PoolQC Fence MiscFeature MiscVal MoSold  \\\n",
      "0         Lvl    AllPub  ...        0    NaN   NaN         NaN       0      2   \n",
      "1         Lvl    AllPub  ...        0    NaN   NaN         NaN       0      5   \n",
      "2         Lvl    AllPub  ...        0    NaN   NaN         NaN       0      9   \n",
      "3         Lvl    AllPub  ...        0    NaN   NaN         NaN       0      2   \n",
      "4         Lvl    AllPub  ...        0    NaN   NaN         NaN       0     12   \n",
      "\n",
      "  YrSold  SaleType  SaleCondition  SalePrice  \n",
      "0   2008        WD         Normal     208500  \n",
      "1   2007        WD         Normal     181500  \n",
      "2   2008        WD         Normal     223500  \n",
      "3   2006        WD        Abnorml     140000  \n",
      "4   2008        WD         Normal     250000  \n",
      "\n",
      "[5 rows x 81 columns]\n"
     ]
    }
   ],
   "source": [
    "\n",
    "trainfile = r'C:\\Users\\farha\\Downloads\\trainTA.csv'\n",
    "train_data = pd.read_csv(trainfile)\n",
    "\n",
    "#train_data = pd.read_csv(\"C:/Users/admin/Downloads/Insurance Fraud - TRAIN-3000(1).csv\")\n",
    "\n",
    "\n",
    "testfile = r'C:\\Users\\farha\\Downloads\\testTA.csv'\n",
    "test_data = pd.read_csv(testfile)\n",
    "\n",
    "#test_data = pd.read_csv(\"C:/Users/admin/Downloads/Insurance Fraud -TEST-12900(1).csv\")\n",
    "\n",
    "print('Shape of train data')\n",
    "print(train_data.shape)\n",
    "print(test_data.shape)\n",
    "print(train_data.head())    \n"
   ]
  },
  {
   "cell_type": "code",
   "execution_count": 98,
   "id": "3443af3e",
   "metadata": {},
   "outputs": [
    {
     "name": "stdout",
     "output_type": "stream",
     "text": [
      "MSZoning\n",
      "Street\n",
      "Alley\n",
      "LotShape\n",
      "LandContour\n",
      "Utilities\n",
      "LotConfig\n",
      "LandSlope\n",
      "Neighborhood\n",
      "Condition1\n",
      "Condition2\n",
      "BldgType\n",
      "HouseStyle\n",
      "RoofStyle\n",
      "RoofMatl\n",
      "Exterior1st\n",
      "Exterior2nd\n",
      "MasVnrType\n",
      "ExterQual\n",
      "ExterCond\n",
      "Foundation\n",
      "BsmtQual\n",
      "BsmtCond\n",
      "BsmtExposure\n",
      "BsmtFinType1\n",
      "BsmtFinType2\n",
      "Heating\n",
      "HeatingQC\n",
      "CentralAir\n",
      "Electrical\n",
      "KitchenQual\n",
      "Functional\n",
      "FireplaceQu\n",
      "GarageType\n",
      "GarageFinish\n",
      "GarageQual\n",
      "GarageCond\n",
      "PavedDrive\n",
      "PoolQC\n",
      "Fence\n",
      "MiscFeature\n",
      "SaleType\n",
      "SaleCondition\n"
     ]
    }
   ],
   "source": [
    "#To do encoding just for the catogerical variables\n",
    "from sklearn import preprocessing\n",
    "\n",
    "\n",
    "for f in train_data.columns:\n",
    "    if train_data[f].dtype=='object':\n",
    "        print(f)\n",
    "        lbl = preprocessing.LabelEncoder()\n",
    "        lbl.fit(list(train_data[f].values) + list(test_data[f].values))\n",
    "        train_data[f] = lbl.transform(list(train_data[f].values))\n",
    "        test_data[f] = lbl.transform(list(test_data[f].values))"
   ]
  },
  {
   "cell_type": "markdown",
   "id": "8e80a0f4",
   "metadata": {},
   "source": [
    "# Traindata"
   ]
  },
  {
   "cell_type": "code",
   "execution_count": 99,
   "id": "7419834e",
   "metadata": {},
   "outputs": [
    {
     "name": "stdout",
     "output_type": "stream",
     "text": [
      "LotFrontage 0.1774  % missing values\n",
      "MasVnrArea 0.0055  % missing values\n",
      "GarageYrBlt 0.0555  % missing values\n"
     ]
    }
   ],
   "source": [
    "## Here we will check the percentage of nan values present in each feature\n",
    "## 1 -step make the list of features which has missing values\n",
    "features_with_na=[features for features in train_data.columns if train_data[features].isnull().sum()>1]\n",
    "## 2- step print the feature name and the percentage of missing values\n",
    "\n",
    "for feature in features_with_na:\n",
    "    print(feature, np.round(train_data[feature].isnull().mean(), 4),  ' % missing values')"
   ]
  },
  {
   "cell_type": "code",
   "execution_count": 100,
   "id": "c23223f0",
   "metadata": {},
   "outputs": [
    {
     "data": {
      "text/plain": [
       "Series([], dtype: float64)"
      ]
     },
     "execution_count": 100,
     "metadata": {},
     "output_type": "execute_result"
    }
   ],
   "source": [
    "## Replace missing value with a new label\n",
    "features_nan=[feature for feature in train_data.columns if train_data[feature].isnull().sum()>1 and train_data[feature].dtypes=='O']\n",
    "\n",
    "def replace_cat_feature(train_data,features_nan):\n",
    "    data=train_data.copy()\n",
    "    data[features_nan]=data[features_nan].fillna('Missing')\n",
    "    return data\n",
    "\n",
    "dataset=replace_cat_feature(train_data,features_nan)\n",
    "\n",
    "dataset[features_nan].isnull().sum()"
   ]
  },
  {
   "cell_type": "code",
   "execution_count": 101,
   "id": "57b6cf7a",
   "metadata": {},
   "outputs": [
    {
     "name": "stdout",
     "output_type": "stream",
     "text": [
      "LotFrontage: 0.1774% missing value\n",
      "MasVnrArea: 0.0055% missing value\n",
      "GarageYrBlt: 0.0555% missing value\n"
     ]
    }
   ],
   "source": [
    "## Now lets check for numerical variables the contains missing values\n",
    "numerical_with_nan=[feature for feature in dataset.columns if dataset[feature].isnull().sum()>1 and dataset[feature].dtypes!='O']\n",
    "\n",
    "## We will print the numerical nan variables and percentage of missing values\n",
    "\n",
    "for feature in numerical_with_nan:\n",
    "    print(\"{}: {}% missing value\".format(feature,np.around(dataset[feature].isnull().mean(),4)))"
   ]
  },
  {
   "cell_type": "code",
   "execution_count": 102,
   "id": "b46b035e",
   "metadata": {},
   "outputs": [
    {
     "data": {
      "text/plain": [
       "LotFrontage    0\n",
       "MasVnrArea     0\n",
       "GarageYrBlt    0\n",
       "dtype: int64"
      ]
     },
     "execution_count": 102,
     "metadata": {},
     "output_type": "execute_result"
    }
   ],
   "source": [
    "## Replacing the numerical Missing Values\n",
    "\n",
    "for feature in numerical_with_nan:\n",
    "    ## We will replace by using median since there are outliers\n",
    "    median_value=dataset[feature].median()\n",
    "    \n",
    "    ## create a new feature to capture nan values\n",
    "    dataset[feature+'nan']=np.where(dataset[feature].isnull(),1,0)\n",
    "    dataset[feature].fillna(median_value,inplace=True)\n",
    "    \n",
    "dataset[numerical_with_nan].isnull().sum()\n",
    "    "
   ]
  },
  {
   "cell_type": "code",
   "execution_count": 103,
   "id": "31d54fe8",
   "metadata": {},
   "outputs": [],
   "source": [
    "# feature_scale=[feature for feature in dataset.columns if feature not in ['Id','SalePrice']]\n",
    "\n",
    "# from sklearn.preprocessing import MinMaxScaler\n",
    "# scaler=MinMaxScaler()\n",
    "# scaler.fit(dataset[feature_scale])"
   ]
  },
  {
   "cell_type": "code",
   "execution_count": 104,
   "id": "8b040089",
   "metadata": {},
   "outputs": [],
   "source": [
    "# scaler.transform(dataset[feature_scale])"
   ]
  },
  {
   "cell_type": "code",
   "execution_count": 105,
   "id": "441f4e42",
   "metadata": {},
   "outputs": [],
   "source": [
    "# # transform the train and test set, and add on the Id and SalePrice variables\n",
    "# data = pd.concat([dataset[['Id', 'SalePrice']].reset_index(drop=True),\n",
    "#                     pd.DataFrame(scaler.transform(dataset[feature_scale]), columns=feature_scale)],\n",
    "#                     axis=1)\n"
   ]
  },
  {
   "cell_type": "code",
   "execution_count": 106,
   "id": "dd168cad",
   "metadata": {},
   "outputs": [],
   "source": [
    "dataset = dataset.drop(['LotFrontage','MasVnrArea','GarageYrBlt'], axis =1)"
   ]
  },
  {
   "cell_type": "code",
   "execution_count": 107,
   "id": "b3a04a27",
   "metadata": {},
   "outputs": [
    {
     "data": {
      "text/plain": [
       "LotFrontage     227\n",
       "GarageYrBlt      78\n",
       "MasVnrArea       15\n",
       "BsmtFullBath      2\n",
       "BsmtHalfBath      2\n",
       "GarageCars        1\n",
       "TotalBsmtSF       1\n",
       "BsmtUnfSF         1\n",
       "BsmtFinSF2        1\n",
       "BsmtFinSF1        1\n",
       "GarageArea        1\n",
       "KitchenQual       0\n",
       "Fireplaces        0\n",
       "Functional        0\n",
       "TotRmsAbvGrd      0\n",
       "Id                0\n",
       "KitchenAbvGr      0\n",
       "BedroomAbvGr      0\n",
       "HalfBath          0\n",
       "FireplaceQu       0\n",
       "dtype: int64"
      ]
     },
     "execution_count": 107,
     "metadata": {},
     "output_type": "execute_result"
    }
   ],
   "source": [
    "test_data.isnull().sum().sort_values(ascending = False).head(20)"
   ]
  },
  {
   "cell_type": "markdown",
   "id": "0ef61e00",
   "metadata": {},
   "source": [
    "# Testdata"
   ]
  },
  {
   "cell_type": "code",
   "execution_count": 108,
   "id": "b7ffb6ae",
   "metadata": {},
   "outputs": [
    {
     "name": "stdout",
     "output_type": "stream",
     "text": [
      "LotFrontage 0.1556  % missing values\n",
      "MasVnrArea 0.0103  % missing values\n",
      "BsmtFullBath 0.0014  % missing values\n",
      "BsmtHalfBath 0.0014  % missing values\n",
      "GarageYrBlt 0.0535  % missing values\n"
     ]
    }
   ],
   "source": [
    "## Here we will check the percentage of nan values present in each feature\n",
    "## 1 -step make the list of features which has missing values\n",
    "features_with_na=[features for features in test_data.columns if test_data[features].isnull().sum()>1]\n",
    "## 2- step print the feature name and the percentage of missing values\n",
    "\n",
    "for feature in features_with_na:\n",
    "    print(feature, np.round(test_data[feature].isnull().mean(), 4),  ' % missing values')"
   ]
  },
  {
   "cell_type": "code",
   "execution_count": 109,
   "id": "7c8e78cf",
   "metadata": {},
   "outputs": [
    {
     "data": {
      "text/plain": [
       "Series([], dtype: float64)"
      ]
     },
     "execution_count": 109,
     "metadata": {},
     "output_type": "execute_result"
    }
   ],
   "source": [
    "## Replace missing value with a new label\n",
    "features_nan=[feature for feature in test_data.columns if test_data[feature].isnull().sum()>1 and test_data[feature].dtypes=='O']\n",
    "\n",
    "def replace_cat_feature(test_data,features_nan):\n",
    "    testdata=test_data.copy()\n",
    "    testdata[features_nan]=testdata[features_nan].fillna('Missing')\n",
    "    return testdata\n",
    "\n",
    "testdataset=replace_cat_feature(test_data,features_nan)\n",
    "\n",
    "testdataset[features_nan].isnull().sum()"
   ]
  },
  {
   "cell_type": "code",
   "execution_count": 110,
   "id": "b19b4a7c",
   "metadata": {},
   "outputs": [
    {
     "name": "stdout",
     "output_type": "stream",
     "text": [
      "LotFrontage: 0.1556% missing value\n",
      "MasVnrArea: 0.0103% missing value\n",
      "BsmtFinSF1: 0.0007% missing value\n",
      "BsmtFinSF2: 0.0007% missing value\n",
      "BsmtUnfSF: 0.0007% missing value\n",
      "TotalBsmtSF: 0.0007% missing value\n",
      "BsmtFullBath: 0.0014% missing value\n",
      "BsmtHalfBath: 0.0014% missing value\n",
      "GarageYrBlt: 0.0535% missing value\n",
      "GarageCars: 0.0007% missing value\n",
      "GarageArea: 0.0007% missing value\n"
     ]
    }
   ],
   "source": [
    "## Now lets check for numerical variables the contains missing values\n",
    "numerical_with_nan=[feature for feature in testdataset.columns if testdataset[feature].isnull().sum()>0 and testdataset[feature].dtypes!='O']\n",
    "\n",
    "## We will print the numerical nan variables and percentage of missing values\n",
    "\n",
    "for feature in numerical_with_nan:\n",
    "    print(\"{}: {}% missing value\".format(feature,np.around(testdataset[feature].isnull().mean(),4)))"
   ]
  },
  {
   "cell_type": "code",
   "execution_count": 111,
   "id": "cb64dce7",
   "metadata": {},
   "outputs": [
    {
     "data": {
      "text/plain": [
       "LotFrontage     0\n",
       "MasVnrArea      0\n",
       "BsmtFinSF1      0\n",
       "BsmtFinSF2      0\n",
       "BsmtUnfSF       0\n",
       "TotalBsmtSF     0\n",
       "BsmtFullBath    0\n",
       "BsmtHalfBath    0\n",
       "GarageYrBlt     0\n",
       "GarageCars      0\n",
       "GarageArea      0\n",
       "dtype: int64"
      ]
     },
     "execution_count": 111,
     "metadata": {},
     "output_type": "execute_result"
    }
   ],
   "source": [
    "## Replacing the numerical Missing Values\n",
    "\n",
    "for feature in numerical_with_nan:\n",
    "    ## We will replace by using median since there are outliers\n",
    "    median_value=testdataset[feature].median()\n",
    "    \n",
    "    ## create a new feature to capture nan values\n",
    "    testdataset[feature+'nan']=np.where(testdataset[feature].isnull(),1,0)\n",
    "    testdataset[feature].fillna(median_value,inplace=True)\n",
    "    \n",
    "testdataset[numerical_with_nan].isnull().sum()\n",
    "    "
   ]
  },
  {
   "cell_type": "code",
   "execution_count": 112,
   "id": "1b12ce91",
   "metadata": {},
   "outputs": [
    {
     "name": "stdout",
     "output_type": "stream",
     "text": [
      "LotFrontage\n",
      "MasVnrArea\n",
      "GarageYrBlt\n",
      "BsmtFinSF1nan\n",
      "BsmtFinSF2nan\n",
      "BsmtUnfSFnan\n",
      "TotalBsmtSFnan\n",
      "BsmtFullBathnan\n",
      "BsmtHalfBathnan\n",
      "GarageCarsnan\n",
      "GarageAreanan\n"
     ]
    }
   ],
   "source": [
    "for i in testdataset:\n",
    "    if i not in dataset:\n",
    "        print(i)"
   ]
  },
  {
   "cell_type": "code",
   "execution_count": null,
   "id": "42769b30",
   "metadata": {},
   "outputs": [],
   "source": []
  },
  {
   "cell_type": "code",
   "execution_count": null,
   "id": "62c7777a",
   "metadata": {},
   "outputs": [],
   "source": []
  },
  {
   "cell_type": "code",
   "execution_count": 113,
   "id": "e59ae9a4",
   "metadata": {},
   "outputs": [],
   "source": [
    "# feature_scale=[feature for feature in testdataset.columns if feature not in ['Id','SalePrice']]\n",
    "\n",
    "# from sklearn.preprocessing import MinMaxScaler\n",
    "# scaler=MinMaxScaler()\n",
    "# scaler.fit(testdataset[feature_scale])"
   ]
  },
  {
   "cell_type": "code",
   "execution_count": 114,
   "id": "21ca1bc6",
   "metadata": {},
   "outputs": [],
   "source": [
    "# scaler.transform(testdataset[feature_scale])\n",
    "# # transform the train and test set, and add on the Id and SalePrice variables\n",
    "# testdataset = pd.concat([testdataset[['Id']].reset_index(drop=True),\n",
    "#                     pd.DataFrame(scaler.transform(testdataset[feature_scale]), columns=feature_scale)],\n",
    "#                     axis=1)\n"
   ]
  },
  {
   "cell_type": "code",
   "execution_count": 115,
   "id": "a718e591",
   "metadata": {},
   "outputs": [
    {
     "data": {
      "text/html": [
       "<div>\n",
       "<style scoped>\n",
       "    .dataframe tbody tr th:only-of-type {\n",
       "        vertical-align: middle;\n",
       "    }\n",
       "\n",
       "    .dataframe tbody tr th {\n",
       "        vertical-align: top;\n",
       "    }\n",
       "\n",
       "    .dataframe thead th {\n",
       "        text-align: right;\n",
       "    }\n",
       "</style>\n",
       "<table border=\"1\" class=\"dataframe\">\n",
       "  <thead>\n",
       "    <tr style=\"text-align: right;\">\n",
       "      <th></th>\n",
       "      <th>Id</th>\n",
       "      <th>MSSubClass</th>\n",
       "      <th>MSZoning</th>\n",
       "      <th>LotFrontage</th>\n",
       "      <th>LotArea</th>\n",
       "      <th>Street</th>\n",
       "      <th>Alley</th>\n",
       "      <th>LotShape</th>\n",
       "      <th>LandContour</th>\n",
       "      <th>Utilities</th>\n",
       "      <th>...</th>\n",
       "      <th>MasVnrAreanan</th>\n",
       "      <th>BsmtFinSF1nan</th>\n",
       "      <th>BsmtFinSF2nan</th>\n",
       "      <th>BsmtUnfSFnan</th>\n",
       "      <th>TotalBsmtSFnan</th>\n",
       "      <th>BsmtFullBathnan</th>\n",
       "      <th>BsmtHalfBathnan</th>\n",
       "      <th>GarageYrBltnan</th>\n",
       "      <th>GarageCarsnan</th>\n",
       "      <th>GarageAreanan</th>\n",
       "    </tr>\n",
       "  </thead>\n",
       "  <tbody>\n",
       "    <tr>\n",
       "      <th>0</th>\n",
       "      <td>1461</td>\n",
       "      <td>20</td>\n",
       "      <td>2</td>\n",
       "      <td>80.0</td>\n",
       "      <td>11622</td>\n",
       "      <td>1</td>\n",
       "      <td>2</td>\n",
       "      <td>3</td>\n",
       "      <td>3</td>\n",
       "      <td>0</td>\n",
       "      <td>...</td>\n",
       "      <td>0</td>\n",
       "      <td>0</td>\n",
       "      <td>0</td>\n",
       "      <td>0</td>\n",
       "      <td>0</td>\n",
       "      <td>0</td>\n",
       "      <td>0</td>\n",
       "      <td>0</td>\n",
       "      <td>0</td>\n",
       "      <td>0</td>\n",
       "    </tr>\n",
       "    <tr>\n",
       "      <th>1</th>\n",
       "      <td>1462</td>\n",
       "      <td>20</td>\n",
       "      <td>3</td>\n",
       "      <td>81.0</td>\n",
       "      <td>14267</td>\n",
       "      <td>1</td>\n",
       "      <td>2</td>\n",
       "      <td>0</td>\n",
       "      <td>3</td>\n",
       "      <td>0</td>\n",
       "      <td>...</td>\n",
       "      <td>0</td>\n",
       "      <td>0</td>\n",
       "      <td>0</td>\n",
       "      <td>0</td>\n",
       "      <td>0</td>\n",
       "      <td>0</td>\n",
       "      <td>0</td>\n",
       "      <td>0</td>\n",
       "      <td>0</td>\n",
       "      <td>0</td>\n",
       "    </tr>\n",
       "    <tr>\n",
       "      <th>2</th>\n",
       "      <td>1463</td>\n",
       "      <td>60</td>\n",
       "      <td>3</td>\n",
       "      <td>74.0</td>\n",
       "      <td>13830</td>\n",
       "      <td>1</td>\n",
       "      <td>2</td>\n",
       "      <td>0</td>\n",
       "      <td>3</td>\n",
       "      <td>0</td>\n",
       "      <td>...</td>\n",
       "      <td>0</td>\n",
       "      <td>0</td>\n",
       "      <td>0</td>\n",
       "      <td>0</td>\n",
       "      <td>0</td>\n",
       "      <td>0</td>\n",
       "      <td>0</td>\n",
       "      <td>0</td>\n",
       "      <td>0</td>\n",
       "      <td>0</td>\n",
       "    </tr>\n",
       "    <tr>\n",
       "      <th>3</th>\n",
       "      <td>1464</td>\n",
       "      <td>60</td>\n",
       "      <td>3</td>\n",
       "      <td>78.0</td>\n",
       "      <td>9978</td>\n",
       "      <td>1</td>\n",
       "      <td>2</td>\n",
       "      <td>0</td>\n",
       "      <td>3</td>\n",
       "      <td>0</td>\n",
       "      <td>...</td>\n",
       "      <td>0</td>\n",
       "      <td>0</td>\n",
       "      <td>0</td>\n",
       "      <td>0</td>\n",
       "      <td>0</td>\n",
       "      <td>0</td>\n",
       "      <td>0</td>\n",
       "      <td>0</td>\n",
       "      <td>0</td>\n",
       "      <td>0</td>\n",
       "    </tr>\n",
       "    <tr>\n",
       "      <th>4</th>\n",
       "      <td>1465</td>\n",
       "      <td>120</td>\n",
       "      <td>3</td>\n",
       "      <td>43.0</td>\n",
       "      <td>5005</td>\n",
       "      <td>1</td>\n",
       "      <td>2</td>\n",
       "      <td>0</td>\n",
       "      <td>1</td>\n",
       "      <td>0</td>\n",
       "      <td>...</td>\n",
       "      <td>0</td>\n",
       "      <td>0</td>\n",
       "      <td>0</td>\n",
       "      <td>0</td>\n",
       "      <td>0</td>\n",
       "      <td>0</td>\n",
       "      <td>0</td>\n",
       "      <td>0</td>\n",
       "      <td>0</td>\n",
       "      <td>0</td>\n",
       "    </tr>\n",
       "    <tr>\n",
       "      <th>...</th>\n",
       "      <td>...</td>\n",
       "      <td>...</td>\n",
       "      <td>...</td>\n",
       "      <td>...</td>\n",
       "      <td>...</td>\n",
       "      <td>...</td>\n",
       "      <td>...</td>\n",
       "      <td>...</td>\n",
       "      <td>...</td>\n",
       "      <td>...</td>\n",
       "      <td>...</td>\n",
       "      <td>...</td>\n",
       "      <td>...</td>\n",
       "      <td>...</td>\n",
       "      <td>...</td>\n",
       "      <td>...</td>\n",
       "      <td>...</td>\n",
       "      <td>...</td>\n",
       "      <td>...</td>\n",
       "      <td>...</td>\n",
       "      <td>...</td>\n",
       "    </tr>\n",
       "    <tr>\n",
       "      <th>1454</th>\n",
       "      <td>2915</td>\n",
       "      <td>160</td>\n",
       "      <td>4</td>\n",
       "      <td>21.0</td>\n",
       "      <td>1936</td>\n",
       "      <td>1</td>\n",
       "      <td>2</td>\n",
       "      <td>3</td>\n",
       "      <td>3</td>\n",
       "      <td>0</td>\n",
       "      <td>...</td>\n",
       "      <td>0</td>\n",
       "      <td>0</td>\n",
       "      <td>0</td>\n",
       "      <td>0</td>\n",
       "      <td>0</td>\n",
       "      <td>0</td>\n",
       "      <td>0</td>\n",
       "      <td>1</td>\n",
       "      <td>0</td>\n",
       "      <td>0</td>\n",
       "    </tr>\n",
       "    <tr>\n",
       "      <th>1455</th>\n",
       "      <td>2916</td>\n",
       "      <td>160</td>\n",
       "      <td>4</td>\n",
       "      <td>21.0</td>\n",
       "      <td>1894</td>\n",
       "      <td>1</td>\n",
       "      <td>2</td>\n",
       "      <td>3</td>\n",
       "      <td>3</td>\n",
       "      <td>0</td>\n",
       "      <td>...</td>\n",
       "      <td>0</td>\n",
       "      <td>0</td>\n",
       "      <td>0</td>\n",
       "      <td>0</td>\n",
       "      <td>0</td>\n",
       "      <td>0</td>\n",
       "      <td>0</td>\n",
       "      <td>0</td>\n",
       "      <td>0</td>\n",
       "      <td>0</td>\n",
       "    </tr>\n",
       "    <tr>\n",
       "      <th>1456</th>\n",
       "      <td>2917</td>\n",
       "      <td>20</td>\n",
       "      <td>3</td>\n",
       "      <td>160.0</td>\n",
       "      <td>20000</td>\n",
       "      <td>1</td>\n",
       "      <td>2</td>\n",
       "      <td>3</td>\n",
       "      <td>3</td>\n",
       "      <td>0</td>\n",
       "      <td>...</td>\n",
       "      <td>0</td>\n",
       "      <td>0</td>\n",
       "      <td>0</td>\n",
       "      <td>0</td>\n",
       "      <td>0</td>\n",
       "      <td>0</td>\n",
       "      <td>0</td>\n",
       "      <td>0</td>\n",
       "      <td>0</td>\n",
       "      <td>0</td>\n",
       "    </tr>\n",
       "    <tr>\n",
       "      <th>1457</th>\n",
       "      <td>2918</td>\n",
       "      <td>85</td>\n",
       "      <td>3</td>\n",
       "      <td>62.0</td>\n",
       "      <td>10441</td>\n",
       "      <td>1</td>\n",
       "      <td>2</td>\n",
       "      <td>3</td>\n",
       "      <td>3</td>\n",
       "      <td>0</td>\n",
       "      <td>...</td>\n",
       "      <td>0</td>\n",
       "      <td>0</td>\n",
       "      <td>0</td>\n",
       "      <td>0</td>\n",
       "      <td>0</td>\n",
       "      <td>0</td>\n",
       "      <td>0</td>\n",
       "      <td>1</td>\n",
       "      <td>0</td>\n",
       "      <td>0</td>\n",
       "    </tr>\n",
       "    <tr>\n",
       "      <th>1458</th>\n",
       "      <td>2919</td>\n",
       "      <td>60</td>\n",
       "      <td>3</td>\n",
       "      <td>74.0</td>\n",
       "      <td>9627</td>\n",
       "      <td>1</td>\n",
       "      <td>2</td>\n",
       "      <td>3</td>\n",
       "      <td>3</td>\n",
       "      <td>0</td>\n",
       "      <td>...</td>\n",
       "      <td>0</td>\n",
       "      <td>0</td>\n",
       "      <td>0</td>\n",
       "      <td>0</td>\n",
       "      <td>0</td>\n",
       "      <td>0</td>\n",
       "      <td>0</td>\n",
       "      <td>0</td>\n",
       "      <td>0</td>\n",
       "      <td>0</td>\n",
       "    </tr>\n",
       "  </tbody>\n",
       "</table>\n",
       "<p>1459 rows × 91 columns</p>\n",
       "</div>"
      ],
      "text/plain": [
       "        Id  MSSubClass  MSZoning  LotFrontage  LotArea  Street  Alley  \\\n",
       "0     1461          20         2         80.0    11622       1      2   \n",
       "1     1462          20         3         81.0    14267       1      2   \n",
       "2     1463          60         3         74.0    13830       1      2   \n",
       "3     1464          60         3         78.0     9978       1      2   \n",
       "4     1465         120         3         43.0     5005       1      2   \n",
       "...    ...         ...       ...          ...      ...     ...    ...   \n",
       "1454  2915         160         4         21.0     1936       1      2   \n",
       "1455  2916         160         4         21.0     1894       1      2   \n",
       "1456  2917          20         3        160.0    20000       1      2   \n",
       "1457  2918          85         3         62.0    10441       1      2   \n",
       "1458  2919          60         3         74.0     9627       1      2   \n",
       "\n",
       "      LotShape  LandContour  Utilities  ...  MasVnrAreanan  BsmtFinSF1nan  \\\n",
       "0            3            3          0  ...              0              0   \n",
       "1            0            3          0  ...              0              0   \n",
       "2            0            3          0  ...              0              0   \n",
       "3            0            3          0  ...              0              0   \n",
       "4            0            1          0  ...              0              0   \n",
       "...        ...          ...        ...  ...            ...            ...   \n",
       "1454         3            3          0  ...              0              0   \n",
       "1455         3            3          0  ...              0              0   \n",
       "1456         3            3          0  ...              0              0   \n",
       "1457         3            3          0  ...              0              0   \n",
       "1458         3            3          0  ...              0              0   \n",
       "\n",
       "      BsmtFinSF2nan  BsmtUnfSFnan  TotalBsmtSFnan  BsmtFullBathnan  \\\n",
       "0                 0             0               0                0   \n",
       "1                 0             0               0                0   \n",
       "2                 0             0               0                0   \n",
       "3                 0             0               0                0   \n",
       "4                 0             0               0                0   \n",
       "...             ...           ...             ...              ...   \n",
       "1454              0             0               0                0   \n",
       "1455              0             0               0                0   \n",
       "1456              0             0               0                0   \n",
       "1457              0             0               0                0   \n",
       "1458              0             0               0                0   \n",
       "\n",
       "      BsmtHalfBathnan  GarageYrBltnan  GarageCarsnan  GarageAreanan  \n",
       "0                   0               0              0              0  \n",
       "1                   0               0              0              0  \n",
       "2                   0               0              0              0  \n",
       "3                   0               0              0              0  \n",
       "4                   0               0              0              0  \n",
       "...               ...             ...            ...            ...  \n",
       "1454                0               1              0              0  \n",
       "1455                0               0              0              0  \n",
       "1456                0               0              0              0  \n",
       "1457                0               1              0              0  \n",
       "1458                0               0              0              0  \n",
       "\n",
       "[1459 rows x 91 columns]"
      ]
     },
     "execution_count": 115,
     "metadata": {},
     "output_type": "execute_result"
    }
   ],
   "source": [
    "testdataset"
   ]
  },
  {
   "cell_type": "code",
   "execution_count": 129,
   "id": "092d2a94",
   "metadata": {},
   "outputs": [
    {
     "name": "stdout",
     "output_type": "stream",
     "text": [
      "Continuous feature Count 15\n"
     ]
    }
   ],
   "source": [
    "numerical_features = [feature for feature in dataset.columns if dataset[feature].dtypes != 'O']\n",
    "year_feature = [feature for feature in numerical_features if 'Yr' in feature or 'Year' in feature]\n",
    "\n",
    "discrete_feature=[feature for feature in numerical_features if len(dataset[feature].unique())<25 and feature not in year_feature+['Id']]\n",
    "\n",
    "\n",
    "continuous_feature=[feature for feature in numerical_features if feature not in discrete_feature+year_feature+['Id']]\n",
    "print(\"Continuous feature Count {}\".format(len(continuous_feature)))"
   ]
  },
  {
   "cell_type": "code",
   "execution_count": 135,
   "id": "b5a5beef",
   "metadata": {},
   "outputs": [
    {
     "data": {
      "image/png": "[encoded data removed]",
      "text/plain": [
       "<Figure size 432x288 with 1 Axes>"
      ]
     },
     "metadata": {
      "needs_background": "light"
     },
     "output_type": "display_data"
    },
    {
     "data": {
      "image/png": "[encoded data removed]",
      "text/plain": [
       "<Figure size 432x288 with 1 Axes>"
      ]
     },
     "metadata": {
      "needs_background": "light"
     },
     "output_type": "display_data"
    },
    {
     "data": {
      "image/png": "[encoded data removed]",
      "text/plain": [
       "<Figure size 432x288 with 1 Axes>"
      ]
     },
     "metadata": {
      "needs_background": "light"
     },
     "output_type": "display_data"
    },
    {
     "data": {
      "image/png": "[encoded data removed]",
      "text/plain": [
       "<Figure size 432x288 with 1 Axes>"
      ]
     },
     "metadata": {
      "needs_background": "light"
     },
     "output_type": "display_data"
    },
    {
     "data": {
      "image/png": "[encoded data removed]",
      "text/plain": [
       "<Figure size 432x288 with 1 Axes>"
      ]
     },
     "metadata": {
      "needs_background": "light"
     },
     "output_type": "display_data"
    }
   ],
   "source": [
    "for feature in features_with_na:\n",
    "    data = train_data.copy()\n",
    "    \n",
    "    # let's make a variable that indicates 1 if the observation was missing or zero otherwise\n",
    "    data[feature] = np.where(data[feature].isnull(), 1, 0)\n",
    "    \n",
    "    # let's calculate the mean SalePrice where the information is missing or present\n",
    "    data.groupby(feature)['SalePrice'].median().plot.bar()\n",
    "    plt.title(feature)\n",
    "    plt.show()"
   ]
  },
  {
   "cell_type": "code",
   "execution_count": 126,
   "id": "82e6b6cd",
   "metadata": {},
   "outputs": [
    {
     "data": {
      "image/png": "[encoded data removed]",
      "text/plain": [
       "<Figure size 432x288 with 1 Axes>"
      ]
     },
     "metadata": {
      "needs_background": "light"
     },
     "output_type": "display_data"
    },
    {
     "data": {
      "image/png": "[encoded data removed]",
      "text/plain": [
       "<Figure size 432x288 with 1 Axes>"
      ]
     },
     "metadata": {
      "needs_background": "light"
     },
     "output_type": "display_data"
    },
    {
     "data": {
      "image/png": "[encoded data removed]",
      "text/plain": [
       "<Figure size 432x288 with 1 Axes>"
      ]
     },
     "metadata": {
      "needs_background": "light"
     },
     "output_type": "display_data"
    },
    {
     "data": {
      "image/png": "[encoded data removed]",
      "text/plain": [
       "<Figure size 432x288 with 1 Axes>"
      ]
     },
     "metadata": {
      "needs_background": "light"
     },
     "output_type": "display_data"
    }
   ],
   "source": [
    "import matplotlib.pyplot as plt\n",
    "for feature in continuous_feature:\n",
    "    data=dataset.copy()\n",
    "    if 0 in data[feature].unique():\n",
    "        pass\n",
    "    else:\n",
    "        data[feature]=np.log(data[feature])\n",
    "        data.boxplot(column=feature)\n",
    "        plt.ylabel(feature)\n",
    "        plt.title(feature)\n",
    "        plt.show()\n",
    "        "
   ]
  },
  {
   "cell_type": "code",
   "execution_count": 128,
   "id": "e3743929",
   "metadata": {},
   "outputs": [
    {
     "name": "stdout",
     "output_type": "stream",
     "text": [
      "['Id', 'MSSubClass', 'MSZoning', 'LotArea', 'Street', 'Alley', 'LotShape', 'LandContour', 'Utilities', 'LotConfig', 'LandSlope', 'Neighborhood', 'Condition1', 'Condition2', 'BldgType', 'HouseStyle', 'OverallQual', 'OverallCond', 'YearBuilt', 'YearRemodAdd', 'RoofStyle', 'RoofMatl', 'Exterior1st', 'Exterior2nd', 'MasVnrType', 'ExterQual', 'ExterCond', 'Foundation', 'BsmtQual', 'BsmtCond', 'BsmtExposure', 'BsmtFinType1', 'BsmtFinSF1', 'BsmtFinType2', 'BsmtFinSF2', 'BsmtUnfSF', 'TotalBsmtSF', 'Heating', 'HeatingQC', 'CentralAir', 'Electrical', '1stFlrSF', '2ndFlrSF', 'LowQualFinSF', 'GrLivArea', 'BsmtFullBath', 'BsmtHalfBath', 'FullBath', 'HalfBath', 'BedroomAbvGr', 'KitchenAbvGr', 'KitchenQual', 'TotRmsAbvGrd', 'Functional', 'Fireplaces', 'FireplaceQu', 'GarageType', 'GarageFinish', 'GarageCars', 'GarageArea', 'GarageQual', 'GarageCond', 'PavedDrive', 'WoodDeckSF', 'OpenPorchSF', 'EnclosedPorch', '3SsnPorch', 'ScreenPorch', 'PoolArea', 'PoolQC', 'Fence', 'MiscFeature', 'MiscVal', 'MoSold', 'YrSold', 'SaleType', 'SaleCondition', 'SalePrice', 'LotFrontagenan', 'MasVnrAreanan', 'GarageYrBltnan']\n",
      "['Id', 'MSSubClass', 'MSZoning', 'LotFrontage', 'LotArea', 'Street', 'Alley', 'LotShape', 'LandContour', 'Utilities', 'LotConfig', 'LandSlope', 'Neighborhood', 'Condition1', 'Condition2', 'BldgType', 'HouseStyle', 'OverallQual', 'OverallCond', 'YearBuilt', 'YearRemodAdd', 'RoofStyle', 'RoofMatl', 'Exterior1st', 'Exterior2nd', 'MasVnrType', 'MasVnrArea', 'ExterQual', 'ExterCond', 'Foundation', 'BsmtQual', 'BsmtCond', 'BsmtExposure', 'BsmtFinType1', 'BsmtFinSF1', 'BsmtFinType2', 'BsmtFinSF2', 'BsmtUnfSF', 'TotalBsmtSF', 'Heating', 'HeatingQC', 'CentralAir', 'Electrical', '1stFlrSF', '2ndFlrSF', 'LowQualFinSF', 'GrLivArea', 'BsmtFullBath', 'BsmtHalfBath', 'FullBath', 'HalfBath', 'BedroomAbvGr', 'KitchenAbvGr', 'KitchenQual', 'TotRmsAbvGrd', 'Functional', 'Fireplaces', 'FireplaceQu', 'GarageType', 'GarageYrBlt', 'GarageFinish', 'GarageCars', 'GarageArea', 'GarageQual', 'GarageCond', 'PavedDrive', 'WoodDeckSF', 'OpenPorchSF', 'EnclosedPorch', '3SsnPorch', 'ScreenPorch', 'PoolArea', 'PoolQC', 'Fence', 'MiscFeature', 'MiscVal', 'MoSold', 'YrSold', 'SaleType', 'SaleCondition', 'LotFrontagenan', 'MasVnrAreanan', 'BsmtFinSF1nan', 'BsmtFinSF2nan', 'BsmtUnfSFnan', 'TotalBsmtSFnan', 'BsmtFullBathnan', 'BsmtHalfBathnan', 'GarageYrBltnan', 'GarageCarsnan', 'GarageAreanan']\n"
     ]
    }
   ],
   "source": [
    "TrainCols = list(dataset.columns.values)\n",
    "TestCols = list(testdataset.columns.values)\n",
    "print(TrainCols)\n",
    "print(TestCols)"
   ]
  },
  {
   "cell_type": "code",
   "execution_count": 38,
   "id": "771d956a",
   "metadata": {},
   "outputs": [
    {
     "name": "stdout",
     "output_type": "stream",
     "text": [
      "Train Set shape:\n",
      "(1460, 80)\n",
      "(1460, 1)\n",
      "(1459, 80)\n"
     ]
    }
   ],
   "source": [
    "# Seperate Target column from Train Data\n",
    "Xtrain = dataset.drop(labels= ['SalePrice'], axis = 1)\n",
    "Ytrain = dataset[['SalePrice']].copy()\n",
    "print(\"Train Set shape:\")\n",
    "print(Xtrain.shape)\n",
    "print(Ytrain.shape)\n",
    "Xtest = testdataset.drop(['LotFrontage',\n",
    "'MasVnrArea',\n",
    "'GarageYrBlt',\n",
    "'BsmtFullBathnan',\n",
    "'BsmtHalfBathnan',\n",
    "'BsmtFinSF1nan',\n",
    "'BsmtFinSF2nan',\n",
    "'BsmtUnfSFnan',\n",
    "'TotalBsmtSFnan',\n",
    "'GarageCarsnan',\n",
    "'GarageAreanan'], axis =1)\n",
    "print(Xtest.shape)"
   ]
  },
  {
   "cell_type": "code",
   "execution_count": 39,
   "id": "75a79a14",
   "metadata": {},
   "outputs": [],
   "source": [
    "from sklearn.model_selection import train_test_split\n",
    "X_train1, X_test1, y_train, y_test = train_test_split(Xtrain, Ytrain, test_size=0.3, random_state=0) "
   ]
  },
  {
   "cell_type": "code",
   "execution_count": 40,
   "id": "e2fce9e8",
   "metadata": {},
   "outputs": [
    {
     "data": {
      "text/html": [
       "<div>\n",
       "<style scoped>\n",
       "    .dataframe tbody tr th:only-of-type {\n",
       "        vertical-align: middle;\n",
       "    }\n",
       "\n",
       "    .dataframe tbody tr th {\n",
       "        vertical-align: top;\n",
       "    }\n",
       "\n",
       "    .dataframe thead th {\n",
       "        text-align: right;\n",
       "    }\n",
       "</style>\n",
       "<table border=\"1\" class=\"dataframe\">\n",
       "  <thead>\n",
       "    <tr style=\"text-align: right;\">\n",
       "      <th></th>\n",
       "      <th>Id</th>\n",
       "      <th>MSSubClass</th>\n",
       "      <th>MSZoning</th>\n",
       "      <th>LotArea</th>\n",
       "      <th>Street</th>\n",
       "      <th>Alley</th>\n",
       "      <th>LotShape</th>\n",
       "      <th>LandContour</th>\n",
       "      <th>Utilities</th>\n",
       "      <th>LotConfig</th>\n",
       "      <th>...</th>\n",
       "      <th>Fence</th>\n",
       "      <th>MiscFeature</th>\n",
       "      <th>MiscVal</th>\n",
       "      <th>MoSold</th>\n",
       "      <th>YrSold</th>\n",
       "      <th>SaleType</th>\n",
       "      <th>SaleCondition</th>\n",
       "      <th>LotFrontagenan</th>\n",
       "      <th>MasVnrAreanan</th>\n",
       "      <th>GarageYrBltnan</th>\n",
       "    </tr>\n",
       "  </thead>\n",
       "  <tbody>\n",
       "    <tr>\n",
       "      <th>529</th>\n",
       "      <td>530</td>\n",
       "      <td>20</td>\n",
       "      <td>3</td>\n",
       "      <td>32668</td>\n",
       "      <td>1</td>\n",
       "      <td>2</td>\n",
       "      <td>0</td>\n",
       "      <td>3</td>\n",
       "      <td>0</td>\n",
       "      <td>1</td>\n",
       "      <td>...</td>\n",
       "      <td>4</td>\n",
       "      <td>4</td>\n",
       "      <td>0</td>\n",
       "      <td>3</td>\n",
       "      <td>2007</td>\n",
       "      <td>8</td>\n",
       "      <td>2</td>\n",
       "      <td>1</td>\n",
       "      <td>1</td>\n",
       "      <td>0</td>\n",
       "    </tr>\n",
       "    <tr>\n",
       "      <th>491</th>\n",
       "      <td>492</td>\n",
       "      <td>50</td>\n",
       "      <td>3</td>\n",
       "      <td>9490</td>\n",
       "      <td>1</td>\n",
       "      <td>2</td>\n",
       "      <td>3</td>\n",
       "      <td>3</td>\n",
       "      <td>0</td>\n",
       "      <td>4</td>\n",
       "      <td>...</td>\n",
       "      <td>2</td>\n",
       "      <td>4</td>\n",
       "      <td>0</td>\n",
       "      <td>8</td>\n",
       "      <td>2006</td>\n",
       "      <td>8</td>\n",
       "      <td>4</td>\n",
       "      <td>0</td>\n",
       "      <td>0</td>\n",
       "      <td>0</td>\n",
       "    </tr>\n",
       "    <tr>\n",
       "      <th>459</th>\n",
       "      <td>460</td>\n",
       "      <td>50</td>\n",
       "      <td>3</td>\n",
       "      <td>7015</td>\n",
       "      <td>1</td>\n",
       "      <td>2</td>\n",
       "      <td>0</td>\n",
       "      <td>0</td>\n",
       "      <td>0</td>\n",
       "      <td>0</td>\n",
       "      <td>...</td>\n",
       "      <td>4</td>\n",
       "      <td>4</td>\n",
       "      <td>0</td>\n",
       "      <td>7</td>\n",
       "      <td>2009</td>\n",
       "      <td>8</td>\n",
       "      <td>4</td>\n",
       "      <td>1</td>\n",
       "      <td>0</td>\n",
       "      <td>0</td>\n",
       "    </tr>\n",
       "    <tr>\n",
       "      <th>279</th>\n",
       "      <td>280</td>\n",
       "      <td>60</td>\n",
       "      <td>3</td>\n",
       "      <td>10005</td>\n",
       "      <td>1</td>\n",
       "      <td>2</td>\n",
       "      <td>3</td>\n",
       "      <td>3</td>\n",
       "      <td>0</td>\n",
       "      <td>4</td>\n",
       "      <td>...</td>\n",
       "      <td>4</td>\n",
       "      <td>4</td>\n",
       "      <td>0</td>\n",
       "      <td>3</td>\n",
       "      <td>2008</td>\n",
       "      <td>8</td>\n",
       "      <td>4</td>\n",
       "      <td>0</td>\n",
       "      <td>0</td>\n",
       "      <td>0</td>\n",
       "    </tr>\n",
       "    <tr>\n",
       "      <th>655</th>\n",
       "      <td>656</td>\n",
       "      <td>160</td>\n",
       "      <td>4</td>\n",
       "      <td>1680</td>\n",
       "      <td>1</td>\n",
       "      <td>2</td>\n",
       "      <td>3</td>\n",
       "      <td>3</td>\n",
       "      <td>0</td>\n",
       "      <td>4</td>\n",
       "      <td>...</td>\n",
       "      <td>4</td>\n",
       "      <td>4</td>\n",
       "      <td>0</td>\n",
       "      <td>3</td>\n",
       "      <td>2010</td>\n",
       "      <td>8</td>\n",
       "      <td>3</td>\n",
       "      <td>0</td>\n",
       "      <td>0</td>\n",
       "      <td>0</td>\n",
       "    </tr>\n",
       "    <tr>\n",
       "      <th>...</th>\n",
       "      <td>...</td>\n",
       "      <td>...</td>\n",
       "      <td>...</td>\n",
       "      <td>...</td>\n",
       "      <td>...</td>\n",
       "      <td>...</td>\n",
       "      <td>...</td>\n",
       "      <td>...</td>\n",
       "      <td>...</td>\n",
       "      <td>...</td>\n",
       "      <td>...</td>\n",
       "      <td>...</td>\n",
       "      <td>...</td>\n",
       "      <td>...</td>\n",
       "      <td>...</td>\n",
       "      <td>...</td>\n",
       "      <td>...</td>\n",
       "      <td>...</td>\n",
       "      <td>...</td>\n",
       "      <td>...</td>\n",
       "      <td>...</td>\n",
       "    </tr>\n",
       "    <tr>\n",
       "      <th>271</th>\n",
       "      <td>272</td>\n",
       "      <td>20</td>\n",
       "      <td>3</td>\n",
       "      <td>39104</td>\n",
       "      <td>1</td>\n",
       "      <td>2</td>\n",
       "      <td>0</td>\n",
       "      <td>2</td>\n",
       "      <td>0</td>\n",
       "      <td>1</td>\n",
       "      <td>...</td>\n",
       "      <td>4</td>\n",
       "      <td>4</td>\n",
       "      <td>0</td>\n",
       "      <td>4</td>\n",
       "      <td>2008</td>\n",
       "      <td>8</td>\n",
       "      <td>4</td>\n",
       "      <td>0</td>\n",
       "      <td>0</td>\n",
       "      <td>0</td>\n",
       "    </tr>\n",
       "    <tr>\n",
       "      <th>445</th>\n",
       "      <td>446</td>\n",
       "      <td>20</td>\n",
       "      <td>3</td>\n",
       "      <td>9855</td>\n",
       "      <td>1</td>\n",
       "      <td>2</td>\n",
       "      <td>3</td>\n",
       "      <td>3</td>\n",
       "      <td>0</td>\n",
       "      <td>0</td>\n",
       "      <td>...</td>\n",
       "      <td>2</td>\n",
       "      <td>4</td>\n",
       "      <td>0</td>\n",
       "      <td>11</td>\n",
       "      <td>2009</td>\n",
       "      <td>0</td>\n",
       "      <td>4</td>\n",
       "      <td>0</td>\n",
       "      <td>0</td>\n",
       "      <td>0</td>\n",
       "    </tr>\n",
       "    <tr>\n",
       "      <th>654</th>\n",
       "      <td>655</td>\n",
       "      <td>20</td>\n",
       "      <td>3</td>\n",
       "      <td>10437</td>\n",
       "      <td>1</td>\n",
       "      <td>2</td>\n",
       "      <td>0</td>\n",
       "      <td>3</td>\n",
       "      <td>0</td>\n",
       "      <td>4</td>\n",
       "      <td>...</td>\n",
       "      <td>4</td>\n",
       "      <td>4</td>\n",
       "      <td>0</td>\n",
       "      <td>8</td>\n",
       "      <td>2008</td>\n",
       "      <td>8</td>\n",
       "      <td>4</td>\n",
       "      <td>0</td>\n",
       "      <td>0</td>\n",
       "      <td>0</td>\n",
       "    </tr>\n",
       "    <tr>\n",
       "      <th>1280</th>\n",
       "      <td>1281</td>\n",
       "      <td>20</td>\n",
       "      <td>3</td>\n",
       "      <td>9808</td>\n",
       "      <td>1</td>\n",
       "      <td>2</td>\n",
       "      <td>0</td>\n",
       "      <td>3</td>\n",
       "      <td>0</td>\n",
       "      <td>4</td>\n",
       "      <td>...</td>\n",
       "      <td>4</td>\n",
       "      <td>4</td>\n",
       "      <td>0</td>\n",
       "      <td>3</td>\n",
       "      <td>2009</td>\n",
       "      <td>8</td>\n",
       "      <td>4</td>\n",
       "      <td>0</td>\n",
       "      <td>0</td>\n",
       "      <td>0</td>\n",
       "    </tr>\n",
       "    <tr>\n",
       "      <th>898</th>\n",
       "      <td>899</td>\n",
       "      <td>20</td>\n",
       "      <td>3</td>\n",
       "      <td>12919</td>\n",
       "      <td>1</td>\n",
       "      <td>2</td>\n",
       "      <td>0</td>\n",
       "      <td>3</td>\n",
       "      <td>0</td>\n",
       "      <td>4</td>\n",
       "      <td>...</td>\n",
       "      <td>4</td>\n",
       "      <td>4</td>\n",
       "      <td>0</td>\n",
       "      <td>3</td>\n",
       "      <td>2010</td>\n",
       "      <td>6</td>\n",
       "      <td>5</td>\n",
       "      <td>0</td>\n",
       "      <td>0</td>\n",
       "      <td>0</td>\n",
       "    </tr>\n",
       "  </tbody>\n",
       "</table>\n",
       "<p>438 rows × 80 columns</p>\n",
       "</div>"
      ],
      "text/plain": [
       "        Id  MSSubClass  MSZoning  LotArea  Street  Alley  LotShape  \\\n",
       "529    530          20         3    32668       1      2         0   \n",
       "491    492          50         3     9490       1      2         3   \n",
       "459    460          50         3     7015       1      2         0   \n",
       "279    280          60         3    10005       1      2         3   \n",
       "655    656         160         4     1680       1      2         3   \n",
       "...    ...         ...       ...      ...     ...    ...       ...   \n",
       "271    272          20         3    39104       1      2         0   \n",
       "445    446          20         3     9855       1      2         3   \n",
       "654    655          20         3    10437       1      2         0   \n",
       "1280  1281          20         3     9808       1      2         0   \n",
       "898    899          20         3    12919       1      2         0   \n",
       "\n",
       "      LandContour  Utilities  LotConfig  ...  Fence  MiscFeature  MiscVal  \\\n",
       "529             3          0          1  ...      4            4        0   \n",
       "491             3          0          4  ...      2            4        0   \n",
       "459             0          0          0  ...      4            4        0   \n",
       "279             3          0          4  ...      4            4        0   \n",
       "655             3          0          4  ...      4            4        0   \n",
       "...           ...        ...        ...  ...    ...          ...      ...   \n",
       "271             2          0          1  ...      4            4        0   \n",
       "445             3          0          0  ...      2            4        0   \n",
       "654             3          0          4  ...      4            4        0   \n",
       "1280            3          0          4  ...      4            4        0   \n",
       "898             3          0          4  ...      4            4        0   \n",
       "\n",
       "      MoSold  YrSold  SaleType  SaleCondition  LotFrontagenan  MasVnrAreanan  \\\n",
       "529        3    2007         8              2               1              1   \n",
       "491        8    2006         8              4               0              0   \n",
       "459        7    2009         8              4               1              0   \n",
       "279        3    2008         8              4               0              0   \n",
       "655        3    2010         8              3               0              0   \n",
       "...      ...     ...       ...            ...             ...            ...   \n",
       "271        4    2008         8              4               0              0   \n",
       "445       11    2009         0              4               0              0   \n",
       "654        8    2008         8              4               0              0   \n",
       "1280       3    2009         8              4               0              0   \n",
       "898        3    2010         6              5               0              0   \n",
       "\n",
       "      GarageYrBltnan  \n",
       "529                0  \n",
       "491                0  \n",
       "459                0  \n",
       "279                0  \n",
       "655                0  \n",
       "...              ...  \n",
       "271                0  \n",
       "445                0  \n",
       "654                0  \n",
       "1280               0  \n",
       "898                0  \n",
       "\n",
       "[438 rows x 80 columns]"
      ]
     },
     "execution_count": 40,
     "metadata": {},
     "output_type": "execute_result"
    }
   ],
   "source": [
    "X_test1"
   ]
  },
  {
   "cell_type": "code",
   "execution_count": 149,
   "id": "ac124617",
   "metadata": {},
   "outputs": [
    {
     "name": "stdout",
     "output_type": "stream",
     "text": [
      "RMSE (training) for Decision Tree:  0.000000\n",
      "RMSE (Test Data) for Decision Tree:1576340945.349315\n"
     ]
    }
   ],
   "source": [
    "#Decision Tree Regressor ========================================================================\n",
    "#CONSTRUCT DEFAULT DECISION TREE AND OBTAIN RESPECTIVE ACCURACY \n",
    "from sklearn.tree import DecisionTreeRegressor\n",
    "from sklearn.metrics import mean_squared_error\n",
    "\n",
    "clf = DecisionTreeRegressor()\n",
    "clf.fit(X_train1, y_train)\n",
    "clf_predict_Train=clf.predict(X_train1)\n",
    "\n",
    "#clf.feature_importances_\n",
    "mean_squared_error(y_train,clf_predict_Train)\n",
    "print(\"RMSE (training) for Decision Tree:{0:10f}\".format(mean_squared_error(y_train,clf_predict_Train)))\n",
    "clf_predict_Test=clf.predict(X_test1)\n",
    "mean_squared_error(y_test,clf_predict_Test)\n",
    "print(\"RMSE (Test Data) for Decision Tree:{0:10f}\".format(mean_squared_error(y_test,clf_predict_Test)))\n"
   ]
  },
  {
   "cell_type": "code",
   "execution_count": 150,
   "id": "8278ed86",
   "metadata": {},
   "outputs": [
    {
     "name": "stdout",
     "output_type": "stream",
     "text": [
      "[-43003.41476384 -40502.88144956 -56599.59655875 -38855.73046206\n",
      " -36782.89000257]\n",
      "Mean AUC Score - Decision Tree Regressor:  -43148.902647355724\n"
     ]
    }
   ],
   "source": [
    "#Cross Validation for Decision Tree Regressor\n",
    "from sklearn.model_selection import cross_val_score\n",
    "CV_RMSE_DTR = cross_val_score(clf, X_train1, y_train, cv=5, scoring='neg_root_mean_squared_error')\n",
    "print(CV_RMSE_DTR)\n",
    "print(\"Mean AUC Score - Decision Tree Regressor: \",CV_RMSE_DTR.mean())\n"
   ]
  },
  {
   "cell_type": "code",
   "execution_count": 42,
   "id": "b37d5422",
   "metadata": {},
   "outputs": [],
   "source": [
    "clf_predict_Test=clf.predict(Xtest)"
   ]
  },
  {
   "cell_type": "code",
   "execution_count": 43,
   "id": "69b58bcf",
   "metadata": {},
   "outputs": [],
   "source": [
    "submission=testdataset[['Id']]\n",
    "submission['SalePrice']=clf_predict_Test\n",
    "submission.to_csv(\"results2.1.csv\", index = None)"
   ]
  },
  {
   "cell_type": "code",
   "execution_count": null,
   "id": "f1c5b3e5",
   "metadata": {},
   "outputs": [],
   "source": []
  },
  {
   "cell_type": "code",
   "execution_count": 144,
   "id": "f8c2fc7a",
   "metadata": {},
   "outputs": [
    {
     "name": "stdout",
     "output_type": "stream",
     "text": [
      "RMSE (training) for Random Forest:125340915.064442\n",
      "RMSE (Test Data) for Random Forest:888679717.880478\n"
     ]
    }
   ],
   "source": [
    "#Random Forest Regressor==============================================================================\n",
    "#=================================================================================================\n",
    "from sklearn.ensemble import RandomForestRegressor\n",
    "rfc = RandomForestRegressor()\n",
    "rfc.fit(X_train1, y_train)\n",
    "rfc_predict_Train=rfc.predict(X_train1)\n",
    "\n",
    "mean_squared_error(y_train,rfc_predict_Train)\n",
    "print(\"RMSE (training) for Random Forest:{0:10f}\".format(mean_squared_error(y_train,rfc_predict_Train)))\n",
    "rfc_predict_Test=rfc.predict(X_test1)\n",
    "mean_squared_error(y_test,rfc_predict_Test)\n",
    "print(\"RMSE (Test Data) for Random Forest:{0:10f}\".format(mean_squared_error(y_test,rfc_predict_Test)))\n",
    "\n"
   ]
  },
  {
   "cell_type": "code",
   "execution_count": 151,
   "id": "9ad40c6d",
   "metadata": {},
   "outputs": [
    {
     "name": "stdout",
     "output_type": "stream",
     "text": [
      "[-35840.0983158  -27926.78488594 -34311.74860703 -28379.11215052\n",
      " -23117.40416425]\n",
      "Mean AUC Score - Random Forest Regressor:  -29915.029624705938\n"
     ]
    }
   ],
   "source": [
    "from sklearn.model_selection import cross_val_score\n",
    "CV_RMSE_RFR = cross_val_score(rfc, X_train1, y_train, cv=5, scoring='neg_root_mean_squared_error')\n",
    "print(CV_RMSE_RFR)\n",
    "print(\"Mean AUC Score - Random Forest Regressor: \",CV_RMSE_RFR.mean())\n"
   ]
  },
  {
   "cell_type": "code",
   "execution_count": 46,
   "id": "37e818d6",
   "metadata": {},
   "outputs": [],
   "source": [
    "rfc_predict_test = rfc.predict(Xtest)"
   ]
  },
  {
   "cell_type": "code",
   "execution_count": 47,
   "id": "1f1b3502",
   "metadata": {},
   "outputs": [],
   "source": [
    "submission=testdataset[['Id']]\n",
    "submission['SalePrice']=rfc_predict_test\n",
    "submission.to_csv(\"results2.2.csv\", index = None)"
   ]
  },
  {
   "cell_type": "code",
   "execution_count": 49,
   "id": "293dca54",
   "metadata": {},
   "outputs": [
    {
     "name": "stdout",
     "output_type": "stream",
     "text": [
      "RMSE (training) for linear regressor:718125769.559161\n",
      "RMSE (Test) for all linear regressor:2249137472.53578\n"
     ]
    }
   ],
   "source": [
    "from sklearn.linear_model import LinearRegression\n",
    "lr=LinearRegression()\n",
    "lr.fit(X_train1,y_train)\n",
    "lr_predict_train=lr.predict(X_train1)\n",
    "\n",
    "mean_squared_error(y_train,lr_predict_train)\n",
    "print(\"RMSE (training) for linear regressor:{0:10f}\".format(mean_squared_error(y_train,lr_predict_train)))\n",
    "lr_predict_test = lr.predict(X_test1)\n",
    "mean_squared_error(y_test,lr_predict_test)\n",
    "print(\"RMSE (Test) for all linear regressor:{}\".format(mean_squared_error(y_test,lr_predict_test)))"
   ]
  },
  {
   "cell_type": "code",
   "execution_count": 50,
   "id": "a2aeb642",
   "metadata": {},
   "outputs": [],
   "source": [
    "lr_predict_test1 = lr.predict(Xtest)"
   ]
  },
  {
   "cell_type": "code",
   "execution_count": 51,
   "id": "01b444a5",
   "metadata": {},
   "outputs": [],
   "source": [
    "submission=testdataset[['Id']]\n",
    "submission['SalePrice']=lr_predict_test1\n",
    "submission.to_csv(\"results2.3.csv\", index = None)"
   ]
  },
  {
   "cell_type": "code",
   "execution_count": 153,
   "id": "f9989afa",
   "metadata": {},
   "outputs": [
    {
     "name": "stdout",
     "output_type": "stream",
     "text": [
      "RMSE (Train) for MLP :{} 2321321953.0871944\n",
      "RMSE (Test) for MLP:{} 3088355637.6078334\n"
     ]
    }
   ],
   "source": [
    "from sklearn.neural_network import MLPRegressor\n",
    "mlp=MLPRegressor()\n",
    "mlp.fit(X_train1,y_train)\n",
    "mlp_predict_train = mlp.predict(X_train1)\n",
    "\n",
    "mean_squared_error(y_train,mlp_predict_train)\n",
    "print(\"RMSE (Train) for MLP :{}\",mean_squared_error(y_train,mlp_predict_train))\n",
    "mlp_predict_test = mlp.predict(X_test1)\n",
    "mean_squared_error(y_test,mlp_predict_test)\n",
    "print(\"RMSE (Test) for MLP:{}\",mean_squared_error(y_test,mlp_predict_test))"
   ]
  },
  {
   "cell_type": "code",
   "execution_count": 154,
   "id": "e258f4eb",
   "metadata": {},
   "outputs": [
    {
     "name": "stdout",
     "output_type": "stream",
     "text": [
      "[-53052.25006934 -56086.01985471 -64209.78550711 -48352.0322631\n",
      " -51345.21476128]\n",
      "Mean AUC Score - MLP Regressor:  -54609.0604911082\n"
     ]
    }
   ],
   "source": [
    "#Cross Validation for MPL Regressor\n",
    "from sklearn.model_selection import cross_val_score\n",
    "CV_RMSE_MLP = cross_val_score(mlp, X_train1, y_train, cv=5, scoring='neg_root_mean_squared_error')\n",
    "print(CV_RMSE_MLP)\n",
    "print(\"Mean AUC Score - MLP Regressor: \",CV_RMSE_MLP.mean())\n"
   ]
  },
  {
   "cell_type": "code",
   "execution_count": 53,
   "id": "c1df2156",
   "metadata": {},
   "outputs": [],
   "source": [
    "mlp_predict_test1 = mlp.predict(Xtest)\n",
    "submission=testdataset[['Id']]\n",
    "submission['SalePrice']=mlp_predict_test1\n",
    "submission.to_csv(\"results2.5.csv\", index = None)"
   ]
  },
  {
   "cell_type": "code",
   "execution_count": 54,
   "id": "6634b0cc",
   "metadata": {},
   "outputs": [
    {
     "name": "stdout",
     "output_type": "stream",
     "text": [
      "RMSE (Train) for SVR :{} 6407310408.361012\n",
      "RMSE (Test) for SVR:{} 7136965027.639912\n"
     ]
    }
   ],
   "source": [
    "from sklearn.svm import SVR\n",
    "svr=SVR()\n",
    "svr.fit(X_train1,y_train)\n",
    "svr_predict_train = svr.predict(X_train1)\n",
    "\n",
    "mean_squared_error(y_train,svr_predict_train)\n",
    "print(\"RMSE (Train) for SVR :{}\",mean_squared_error(y_train,svr_predict_train))\n",
    "svr_predict_test = svr.predict(X_test1)\n",
    "mean_squared_error(y_test,svr_predict_test)\n",
    "print(\"RMSE (Test) for SVR:{}\",mean_squared_error(y_test,svr_predict_test))"
   ]
  },
  {
   "cell_type": "markdown",
   "id": "0f6baac0",
   "metadata": {},
   "source": [
    "Gradient Descent Regressor"
   ]
  },
  {
   "cell_type": "code",
   "execution_count": 55,
   "id": "6cae6afa",
   "metadata": {},
   "outputs": [
    {
     "name": "stdout",
     "output_type": "stream",
     "text": [
      "RMSE (Train) for SGD :{} 2.0411596867195727e+36\n",
      "RMSE (Test) for SGD:{} 1.8047212318098484e+36\n"
     ]
    }
   ],
   "source": [
    "from sklearn.linear_model import SGDRegressor\n",
    "sgd=SGDRegressor()\n",
    "sgd.fit(X_train1,y_train)\n",
    "sgd_predict_train = sgd.predict(X_train1)\n",
    "\n",
    "mean_squared_error(y_train,sgd_predict_train)\n",
    "print(\"RMSE (Train) for SGD :{}\",mean_squared_error(y_train,sgd_predict_train))\n",
    "sgd_predict_test = sgd.predict(X_test1)\n",
    "mean_squared_error(y_test,sgd_predict_test)\n",
    "print(\"RMSE (Test) for SGD:{}\",mean_squared_error(y_test,sgd_predict_test))"
   ]
  },
  {
   "cell_type": "code",
   "execution_count": 136,
   "id": "77b364a5",
   "metadata": {},
   "outputs": [
    {
     "name": "stdout",
     "output_type": "stream",
     "text": [
      "RMSE (Train) for SGD :{} 195419299.0626223\n",
      "RMSE (Test) for SGD:{} 4548797108.159818\n"
     ]
    }
   ],
   "source": [
    "abc =GradientBoostingClassifier()\n",
    "abc.fit(X_train1, y_train)\n",
    "abc_predict=abc.predict(X_train1)\n",
    "mean_squared_error(y_train,sgd_predict_train)\n",
    "print(\"RMSE (Train) for SGD :{}\",mean_squared_error(y_train,abc_predict))\n",
    "abc_predict_test = abc.predict(X_test1)\n",
    "mean_squared_error(y_test,sgd_predict_test)\n",
    "print(\"RMSE (Test) for SGD:{}\",mean_squared_error(y_test,abc_predict_test))"
   ]
  },
  {
   "cell_type": "code",
   "execution_count": 167,
   "id": "f8eb93f2",
   "metadata": {},
   "outputs": [
    {
     "name": "stdout",
     "output_type": "stream",
     "text": [
      "[-70958.57239802 -77548.31168947]\n",
      "Mean AUC Score - Gradient Boosting:  -74253.44204374318\n"
     ]
    }
   ],
   "source": [
    "#Cross Validation for Gradient Boosting\n",
    "CV_RMSE_GB = cross_val_score(abc, X_train1, y_train, cv=2, scoring='neg_root_mean_squared_error')\n",
    "print(CV_RMSE_GB)\n",
    "print(\"Mean AUC Score - Gradient Boosting: \",CV_RMSE_GB.mean())\n"
   ]
  },
  {
   "cell_type": "code",
   "execution_count": 137,
   "id": "ff9d3c3d",
   "metadata": {},
   "outputs": [],
   "source": [
    "abc_predict_test1 = abc.predict(Xtest)\n",
    "submission=testdataset[['Id']]\n",
    "submission['SalePrice']=abc_predict_test1\n",
    "submission.to_csv(\"results2.13.csv\", index = None)"
   ]
  },
  {
   "cell_type": "code",
   "execution_count": 56,
   "id": "9dd8ae65",
   "metadata": {},
   "outputs": [
    {
     "name": "stdout",
     "output_type": "stream",
     "text": [
      "___________________________________________________________________________________________\n",
      "Ensemble Methods Predictions using GradientBoosting, RandomForest and Decision Tree Classifier\n",
      "\n",
      "task:         [regression]\n",
      "metric:       [mean_absolute_error]\n",
      "mode:         [oof_pred_bag]\n",
      "n_models:     [4]\n",
      "\n",
      "model  0:     [RandomForestRegressor]\n",
      "    fold  0:  [18720.60312500]\n",
      "    fold  1:  [17509.94871094]\n",
      "    fold  2:  [18549.26792157]\n",
      "    fold  3:  [17410.25678431]\n",
      "    ----\n",
      "    MEAN:     [18047.51913545] + [591.58244710]\n",
      "    FULL:     [18047.65173190]\n",
      "\n",
      "model  1:     [DecisionTreeRegressor]\n",
      "    fold  0:  [28072.37500000]\n",
      "    fold  1:  [28683.60937500]\n",
      "    fold  2:  [29703.17254902]\n",
      "    fold  3:  [26490.57254902]\n",
      "    ----\n",
      "    MEAN:     [28237.43236826] + [1164.71363023]\n",
      "    FULL:     [28237.70743640]\n",
      "\n",
      "model  2:     [MLPRegressor]\n",
      "    fold  0:  [41987.97302421]\n",
      "    fold  1:  [35609.06061643]\n",
      "    fold  2:  [41733.19660575]\n",
      "    fold  3:  [35332.99591740]\n",
      "    ----\n",
      "    MEAN:     [38665.80654095] + [3197.53789077]\n",
      "    FULL:     [38666.06624795]\n",
      "\n",
      "model  3:     [LinearRegression]\n",
      "    fold  0:  [22243.91467950]\n",
      "    fold  1:  [18434.32297366]\n",
      "    fold  2:  [19497.59840673]\n",
      "    fold  3:  [19767.69211871]\n",
      "    ----\n",
      "    MEAN:     [19985.88204465] + [1395.71439464]\n",
      "    FULL:     [19986.57331037]\n",
      "\n"
     ]
    }
   ],
   "source": [
    "#STACKING MODELS =====================================================================\n",
    "print(\"___________________________________________________________________________________________\\nEnsemble Methods Predictions using GradientBoosting, RandomForest and Decision Tree Classifier\\n\")\n",
    "\n",
    "models = [  RandomForestRegressor(), DecisionTreeRegressor(), MLPRegressor(), LinearRegression() ]\n",
    "      \n",
    "S_Train, S_Test = stacking(models,                   \n",
    "                           X_train1, y_train, X_test1,   \n",
    "                           regression=True, \n",
    "     \n",
    "                           mode='oof_pred_bag', \n",
    "       \n",
    "                           needs_proba=False,\n",
    "         \n",
    "                           save_dir=None, \n",
    "                                        \n",
    "                           n_folds=4, \n",
    "                                                    \n",
    "                           verbose=2, shuffle=True)\n",
    "\n"
   ]
  },
  {
   "cell_type": "code",
   "execution_count": 57,
   "id": "5a7501da",
   "metadata": {},
   "outputs": [],
   "source": [
    "#STACKING - CONTRUCT A Random Forest MODEL==============================\n",
    "model = RandomForestRegressor()\n",
    "    \n",
    "model = model.fit(S_Train, y_train)\n",
    "y_pred_train = model.predict(S_Train)\n",
    "y_pred_test = model.predict(S_Test)\n",
    "\n"
   ]
  },
  {
   "cell_type": "code",
   "execution_count": 58,
   "id": "2728c7c7",
   "metadata": {},
   "outputs": [
    {
     "name": "stdout",
     "output_type": "stream",
     "text": [
      "RMSE (training) for Decision Tree:131952530.218726\n",
      "RMSE (Test Data) for Decision Tree:851983107.000951\n"
     ]
    }
   ],
   "source": [
    "mean_squared_error(y_train,y_pred_train)\n",
    "print(\"RMSE (training) for Decision Tree:{0:10f}\".format(mean_squared_error(y_train,y_pred_train)))\n",
    "mean_squared_error(y_test,y_pred_test)\n",
    "print(\"RMSE (Test Data) for Decision Tree:{0:10f}\".format(mean_squared_error(y_test,y_pred_test)))"
   ]
  },
  {
   "cell_type": "code",
   "execution_count": 59,
   "id": "c679bb8e",
   "metadata": {},
   "outputs": [
    {
     "name": "stdout",
     "output_type": "stream",
     "text": [
      "RMSE (training) for Decision Tree:  0.000000\n",
      "RMSE (Test Data) for Decision Tree:995333491.707763\n"
     ]
    }
   ],
   "source": [
    "#STACKING - CONTRUCT A Random Forest MODEL==============================\n",
    "model = DecisionTreeRegressor()\n",
    "    \n",
    "model = model.fit(S_Train, y_train)\n",
    "y_pred_train = model.predict(S_Train)\n",
    "y_pred_test = model.predict(S_Test)\n",
    "\n",
    "mean_squared_error(y_train,y_pred_train)\n",
    "print(\"RMSE (training) for Decision Tree:{0:10f}\".format(mean_squared_error(y_train,y_pred_train)))\n",
    "mean_squared_error(y_test,y_pred_test)\n",
    "print(\"RMSE (Test Data) for Decision Tree:{0:10f}\".format(mean_squared_error(y_test,y_pred_test)))\n"
   ]
  },
  {
   "cell_type": "code",
   "execution_count": 60,
   "id": "c549714c",
   "metadata": {},
   "outputs": [
    {
     "name": "stdout",
     "output_type": "stream",
     "text": [
      "RMSE (training) for Decision Tree:794411807.902438\n",
      "RMSE (Test Data) for Decision Tree:1042274544.065045\n"
     ]
    }
   ],
   "source": [
    "#STACKING - CONTRUCT A Random Forest MODEL==============================\n",
    "model = MLPRegressor()\n",
    "    \n",
    "model = model.fit(S_Train, y_train)\n",
    "y_pred_train = model.predict(S_Train)\n",
    "y_pred_test = model.predict(S_Test)\n",
    "\n",
    "mean_squared_error(y_train,y_pred_train)\n",
    "print(\"RMSE (training) for Decision Tree:{0:10f}\".format(mean_squared_error(y_train,y_pred_train)))\n",
    "mean_squared_error(y_test,y_pred_test)\n",
    "print(\"RMSE (Test Data) for Decision Tree:{0:10f}\".format(mean_squared_error(y_test,y_pred_test)))\n"
   ]
  },
  {
   "cell_type": "code",
   "execution_count": 61,
   "id": "8b06271f",
   "metadata": {},
   "outputs": [
    {
     "name": "stdout",
     "output_type": "stream",
     "text": [
      "RMSE (training) for Decision Tree:806094367.326338\n",
      "RMSE (Test Data) for Decision Tree:1055724614.686465\n"
     ]
    }
   ],
   "source": [
    "#STACKING - CONTRUCT A Random Forest MODEL==============================\n",
    "model = LinearRegression()\n",
    "    \n",
    "model = model.fit(S_Train, y_train)\n",
    "y_pred_train = model.predict(S_Train)\n",
    "y_pred_test = model.predict(S_Test)\n",
    "\n",
    "mean_squared_error(y_train,y_pred_train)\n",
    "print(\"RMSE (training) for Decision Tree:{0:10f}\".format(mean_squared_error(y_train,y_pred_train)))\n",
    "mean_squared_error(y_test,y_pred_test)\n",
    "print(\"RMSE (Test Data) for Decision Tree:{0:10f}\".format(mean_squared_error(y_test,y_pred_test)))\n"
   ]
  },
  {
   "cell_type": "code",
   "execution_count": 71,
   "id": "20857034",
   "metadata": {},
   "outputs": [
    {
     "name": "stdout",
     "output_type": "stream",
     "text": [
      "___________________________________________________________________________________________\n",
      "Ensemble Methods Predictions using GradientBoosting, RandomForest and Decision Tree Classifier\n",
      "\n",
      "task:         [regression]\n",
      "metric:       [mean_absolute_error]\n",
      "mode:         [oof_pred_bag]\n",
      "n_models:     [4]\n",
      "\n",
      "model  0:     [RandomForestRegressor]\n",
      "    fold  0:  [19373.72210526]\n",
      "    fold  1:  [18101.81888889]\n",
      "    fold  2:  [17026.31829412]\n",
      "    fold  3:  [19291.62776471]\n",
      "    fold  4:  [16492.04870588]\n",
      "    fold  5:  [16369.96723529]\n",
      "    ----\n",
      "    MEAN:     [17775.91716569] + [1234.46905424]\n",
      "    FULL:     [17777.79946184]\n",
      "\n",
      "model  1:     [DecisionTreeRegressor]\n",
      "    fold  0:  [28795.93567251]\n",
      "    fold  1:  [27951.12280702]\n",
      "    fold  2:  [29011.21764706]\n",
      "    fold  3:  [30783.99411765]\n",
      "    fold  4:  [26349.54117647]\n",
      "    fold  5:  [24791.12352941]\n",
      "    ----\n",
      "    MEAN:     [27947.15582502] + [1932.75427143]\n",
      "    FULL:     [27947.99021526]\n",
      "\n",
      "model  2:     [MLPRegressor]\n",
      "    fold  0:  [39904.63624303]\n",
      "    fold  1:  [36034.07610575]\n",
      "    fold  2:  [32929.35988313]\n",
      "    fold  3:  [37383.26373794]\n",
      "    fold  4:  [33776.16605345]\n",
      "    fold  5:  [32220.73555368]\n",
      "    ----\n",
      "    MEAN:     [35374.70626283] + [2691.71315640]\n",
      "    FULL:     [35379.78385561]\n",
      "\n",
      "model  3:     [LinearRegression]\n",
      "    fold  0:  [21386.79539284]\n",
      "    fold  1:  [21670.18149376]\n",
      "    fold  2:  [17175.00732662]\n",
      "    fold  3:  [18535.22937661]\n",
      "    fold  4:  [20630.21026633]\n",
      "    fold  5:  [19912.83355112]\n",
      "    ----\n",
      "    MEAN:     [19885.04290121] + [1589.77547837]\n",
      "    FULL:     [19888.25903731]\n",
      "\n"
     ]
    }
   ],
   "source": [
    "#STACKING MODELS =====================================================================\n",
    "print(\"___________________________________________________________________________________________\\nEnsemble Methods Predictions using GradientBoosting, RandomForest and Decision Tree Classifier\\n\")\n",
    "\n",
    "models = [  RandomForestRegressor(), DecisionTreeRegressor(), MLPRegressor(), LinearRegression() ]\n",
    "      \n",
    "Q_Train, Q_Test = stacking(models,                   \n",
    "                           X_train1, y_train, Xtest,   \n",
    "                           regression=True, \n",
    "     \n",
    "                           mode='oof_pred_bag', \n",
    "       \n",
    "                           needs_proba=False,\n",
    "         \n",
    "                           save_dir=None, \n",
    "                                        \n",
    "                           n_folds=6, \n",
    "                                                    \n",
    "                           verbose=2, shuffle=True)\n",
    "\n"
   ]
  },
  {
   "cell_type": "code",
   "execution_count": 157,
   "id": "e159c619",
   "metadata": {},
   "outputs": [
    {
     "name": "stdout",
     "output_type": "stream",
     "text": [
      "RMSE (training) for Decision Tree:123405847.113986\n"
     ]
    }
   ],
   "source": [
    "#STACKING - CONTRUCT A Random Forest MODEL==============================\n",
    "model1 = RandomForestRegressor()\n",
    "    \n",
    "model1 = model1.fit(Q_Train, y_train)\n",
    "y_pred_train = model1.predict(Q_Train)\n",
    "y_pred_test = model1.predict(Q_Test)\n",
    "\n",
    "mean_squared_error(y_train,y_pred_train)\n",
    "print(\"RMSE (training) for Decision Tree:{0:10f}\".format(mean_squared_error(y_train,y_pred_train)))\n"
   ]
  },
  {
   "cell_type": "code",
   "execution_count": 158,
   "id": "d7adb0e3",
   "metadata": {},
   "outputs": [
    {
     "name": "stdout",
     "output_type": "stream",
     "text": [
      "{'min_samples_split': 20, 'max_depth': 19}\n",
      "RMSE (training) for Decision Tree:427212573.901484\n"
     ]
    }
   ],
   "source": [
    "#HyperParameter Tuning for Random Forest\n",
    "parameters={'min_samples_split' : range(10,100,10),'max_depth': range(1,20,2)}\n",
    "rfc_random = RandomizedSearchCV(model1,parameters,n_iter=5)\n",
    "rfc_random.fit(Q_Train, y_train)\n",
    "grid_parm_rfc=rfc_random.best_params_\n",
    "print(grid_parm_rfc)\n",
    "#Construct Random Forest with best parameters\n",
    "rfc= RandomForestRegressor(**grid_parm_rfc)\n",
    "rfc.fit(Q_Train, y_train)\n",
    "rfc_predict1 = rfc.predict(Q_Train)\n",
    "predict_test_rfr1 = rfc.predict(Q_Test)\n",
    "\n",
    "mean_squared_error(y_train,rfc_predict1)\n",
    "print(\"RMSE (training) for Decision Tree:{0:10f}\".format(mean_squared_error(y_train,rfc_predict1)))"
   ]
  },
  {
   "cell_type": "code",
   "execution_count": 159,
   "id": "5dc71277",
   "metadata": {},
   "outputs": [
    {
     "name": "stdout",
     "output_type": "stream",
     "text": [
      "[-34669.0417015  -30454.30594163 -37358.91573685 -29472.02218065\n",
      " -23556.25114639]\n",
      "Mean AUC Score - Random Forest Regressor:  -31102.107341403957\n"
     ]
    }
   ],
   "source": [
    "#Cross Validation for Random Forest Regressor after staking and hyperparameter tuning\n",
    "CV_RMSE_RFR = cross_val_score(rfc, X_train1, y_train, cv=5, scoring='neg_root_mean_squared_error')\n",
    "print(CV_RMSE_RFR)\n",
    "print(\"Mean AUC Score - Random Forest Regressor: \",CV_RMSE_RFR.mean())\n"
   ]
  },
  {
   "cell_type": "code",
   "execution_count": 74,
   "id": "ea971d5f",
   "metadata": {},
   "outputs": [],
   "source": [
    "submission=testdataset[['Id']]\n",
    "submission['SalePrice']=predict_test_rfr1\n",
    "submission.to_csv(\"results2.14.csv\", index = None)"
   ]
  },
  {
   "cell_type": "code",
   "execution_count": 160,
   "id": "972cec7e",
   "metadata": {},
   "outputs": [
    {
     "name": "stdout",
     "output_type": "stream",
     "text": [
      "RMSE (train) for Decision Tree Regressor:0.0\n"
     ]
    }
   ],
   "source": [
    "model2 = DecisionTreeRegressor()\n",
    "\n",
    "model2 = model2.fit(Q_Train,y_train)\n",
    "y_predict_train = model2.predict(Q_Train)\n",
    "Y_predict_test = model2.predict(Q_Test)\n",
    "mean_squared_error(y_train,y_predict_train)\n",
    "print('RMSE (train) for Decision Tree Regressor:{}'.format(mean_squared_error(y_train,y_predict_train)))"
   ]
  },
  {
   "cell_type": "code",
   "execution_count": 161,
   "id": "a219a823",
   "metadata": {},
   "outputs": [
    {
     "name": "stdout",
     "output_type": "stream",
     "text": [
      "{'min_samples_split': 30, 'max_depth': 17}\n",
      "RMSE (training) for Random Forest Classifier:427212573.901484\n"
     ]
    }
   ],
   "source": [
    "parameters = {'min_samples_split' : range(10,100,10),'max_depth': range(1,20,2)}\n",
    "dtr=DecisionTreeRegressor()\n",
    "dtr_random = RandomizedSearchCV(model2,parameters,n_iter=5)\n",
    "dtr_random.fit(Q_Train, y_train)\n",
    "grid_parm_dtr=dtr_random.best_params_\n",
    "print(grid_parm_dtr)\n",
    "#Construct Random Forest with best parameters\n",
    "dtr= DecisionTreeRegressor(**grid_parm_rfc)\n",
    "dtr.fit(Q_Train, y_train)\n",
    "dtr_predict1 = rfc.predict(Q_Train)\n",
    "predict_test_dtr1 = dtr.predict(Q_Test)\n",
    "\n",
    "mean_squared_error(y_train,dtr_predict1)\n",
    "print(\"RMSE (training) for Random Forest Classifier:{0:10f}\".format(mean_squared_error(y_train,dtr_predict1)))"
   ]
  },
  {
   "cell_type": "code",
   "execution_count": 162,
   "id": "ee7b6e40",
   "metadata": {},
   "outputs": [
    {
     "name": "stdout",
     "output_type": "stream",
     "text": [
      "[-42828.26304347 -39842.20770893 -40008.28426114 -39124.09128124\n",
      " -35754.12900907]\n",
      "Mean AUC Score - Decision Tree Regressor:  -39511.39506077069\n"
     ]
    }
   ],
   "source": [
    "#Cross Validation for Decision Tree Regressor\n",
    "from sklearn.model_selection import cross_val_score\n",
    "CV_RMSE_DTR = cross_val_score(dtr, X_train1, y_train, cv=5, scoring='neg_root_mean_squared_error')\n",
    "print(CV_RMSE_DTR)\n",
    "print(\"Mean AUC Score - Decision Tree Regressor: \",CV_RMSE_DTR.mean())\n"
   ]
  },
  {
   "cell_type": "code",
   "execution_count": null,
   "id": "86d4bda1",
   "metadata": {},
   "outputs": [],
   "source": [
    "submission=testdataset[['Id']]\n",
    "submission['SalePrice']=predict_test_dtr1\n",
    "submission.to_csv(\"results2.7.csv\", index = None)"
   ]
  },
  {
   "cell_type": "code",
   "execution_count": 163,
   "id": "497066fa",
   "metadata": {},
   "outputs": [
    {
     "name": "stdout",
     "output_type": "stream",
     "text": [
      "RMSE (Train) for MLP Regressor820328256.4662888\n"
     ]
    }
   ],
   "source": [
    "model3 = MLPRegressor()\n",
    "\n",
    "model3 = model3.fit(Q_Train, y_train)\n",
    "y_predict_train3 = model3.predict(Q_Train)\n",
    "y_predict_test3 = model3.predict(Q_Test)\n",
    "mean_squared_error(y_train,y_predict_train3)\n",
    "print(\"RMSE (Train) for MLP Regressor{}\".format(mean_squared_error(y_train,y_predict_train3)))\n"
   ]
  },
  {
   "cell_type": "code",
   "execution_count": 164,
   "id": "942fd5c5",
   "metadata": {},
   "outputs": [
    {
     "name": "stdout",
     "output_type": "stream",
     "text": [
      "{'max_iter': 100, 'learning_rate': 'constant', 'hidden_layer_sizes': (20, 7, 3), 'activation': 'relu'}\n",
      "RMSE (training) for Random Forest Classifier:38711116444.685539\n"
     ]
    }
   ],
   "source": [
    "#HyperParameter Tuning for Mulit-Layer Perceptron Regressor\n",
    "parameters = {'hidden_layer_sizes':[(10,5,3), (20,7,3)], 'activation':['tanh', 'relu'], 'learning_rate':['constant', 'adaptive'], 'max_iter' :[100, 150]}\n",
    "mlp_random = RandomizedSearchCV(model3,parameters,n_iter=15)\n",
    "mlp_random.fit(Q_Train, y_train)\n",
    "grid_parm=mlp_random.best_params_\n",
    "print(grid_parm)\n",
    "\n",
    "#Using the parameters obtained from HyperParameterTuning in the MLPRegressor \n",
    "mlp = MLPRegressor(**grid_parm)\n",
    "mlp.fit(Q_Train,y_train)\n",
    "mlp_predict1 = mlp.predict(Q_Train)\n",
    "mlp_predict2 = mlp.predict(Q_Test)\n",
    "\n",
    "mean_squared_error(y_train,mlp_predict1)\n",
    "print(\"RMSE (training) for Random Forest Classifier:{0:10f}\".format(mean_squared_error(y_train,mlp_predict1)))\n"
   ]
  },
  {
   "cell_type": "code",
   "execution_count": 165,
   "id": "fb9a931e",
   "metadata": {},
   "outputs": [
    {
     "name": "stdout",
     "output_type": "stream",
     "text": [
      "[ -62110.96134172  -62851.5321164   -87772.43245009  -56909.47779118\n",
      " -184070.96142301]\n",
      "Mean AUC Score - MLP Regressor:  -90743.07302448037\n"
     ]
    }
   ],
   "source": [
    "#Cross Validation for MPL Regressor\n",
    "from sklearn.model_selection import cross_val_score\n",
    "CV_RMSE_MLP = cross_val_score(mlp, X_train1, y_train, cv=5, scoring='neg_root_mean_squared_error')\n",
    "print(CV_RMSE_MLP)\n",
    "print(\"Mean AUC Score - MLP Regressor: \",CV_RMSE_MLP.mean())\n"
   ]
  },
  {
   "cell_type": "code",
   "execution_count": 84,
   "id": "4e316646",
   "metadata": {},
   "outputs": [],
   "source": [
    "submissions= testdataset['Id']\n",
    "submissions['SalePrice']=mlp_predict2\n",
    "submissions.to_csv(\"results2.8.csv\", index = None)"
   ]
  },
  {
   "cell_type": "code",
   "execution_count": 88,
   "id": "4ad095a0",
   "metadata": {},
   "outputs": [
    {
     "name": "stdout",
     "output_type": "stream",
     "text": [
      "RMSE (Train) for MLP Regressor789265921.6108018\n"
     ]
    }
   ],
   "source": [
    "model4 = LinearRegression()\n",
    "\n",
    "model4 = model4.fit(Q_Train, y_train)\n",
    "y_predict_train4 = model4.predict(Q_Train)\n",
    "y_predict_test4 = model4.predict(Q_Test)\n",
    "mean_squared_error(y_train,y_predict_train4)\n",
    "print(\"RMSE (Train) for MLP Regressor{}\".format(mean_squared_error(y_train,y_predict_train4)))"
   ]
  },
  {
   "cell_type": "code",
   "execution_count": 89,
   "id": "4920c4b3",
   "metadata": {},
   "outputs": [],
   "source": [
    "submission=testdataset[['Id']]\n",
    "submission['SalePrice']=y_predict_test4\n",
    "submission.to_csv(\"results2.10.csv\", index = None)"
   ]
  },
  {
   "cell_type": "code",
   "execution_count": 90,
   "id": "0d63535c",
   "metadata": {},
   "outputs": [
    {
     "name": "stdout",
     "output_type": "stream",
     "text": [
      "{'n_estimators': 5, 'learning_rate': 0.01}\n"
     ]
    }
   ],
   "source": [
    "search_grid={'n_estimators':[5,10,20],'learning_rate':[0.01,.1]}\n",
    "abc =GradientBoostingClassifier()\n",
    "abc.fit(X_train1, y_train)\n",
    "\n",
    "abc_random = RandomizedSearchCV(abc,search_grid,n_iter=5)\n",
    "abc_random.fit(X_train1, y_train)\n",
    "grid_parm_abc=abc_random.best_params_\n",
    "print(grid_parm_abc)\n",
    "# abc= GradientBoostingClassifier(**grid_parm_abc)\n",
    "# abc.fit(X_train1,y_train)\n",
    "# abc_predict = abc.predict(X_test1)\n",
    "\n",
    "\n",
    "\n",
    "# #Using the parameters obtained from HyperParameterTuning in the MLPRegressor \n",
    "# mlp = MLPRegressor(**grid_parm)\n",
    "# mlp.fit(Q_Train,y_train)\n",
    "# mlp_predict1 = mlp.predict(Q_Train)\n",
    "# mlp_predict2 = mlp.predict(Q_Test)"
   ]
  },
  {
   "cell_type": "code",
   "execution_count": 94,
   "id": "f9612a44",
   "metadata": {},
   "outputs": [
    {
     "name": "stdout",
     "output_type": "stream",
     "text": [
      "RMSE (Train) for MLP Regressor643289513.8199608\n"
     ]
    }
   ],
   "source": [
    "abc= GradientBoostingClassifier(**grid_parm_abc)\n",
    "abc.fit(Q_Train, y_train)\n",
    "y_predict_train5 = abc.predict(Q_Train)\n",
    "y_predict_test5 = abc.predict(Q_Test)\n",
    "mean_squared_error(y_train,y_predict_train5)\n",
    "print(\"RMSE (Train) for MLP Regressor{}\".format(mean_squared_error(y_train,y_predict_train5)))"
   ]
  },
  {
   "cell_type": "code",
   "execution_count": 166,
   "id": "85a328ca",
   "metadata": {},
   "outputs": [
    {
     "name": "stdout",
     "output_type": "stream",
     "text": [
      "[-69773.98263437 -70770.77212204]\n",
      "Mean AUC Score - Gradient Boosting:  -70272.37737820458\n"
     ]
    }
   ],
   "source": [
    "#Cross Validation for Gradient Boosting\n",
    "CV_RMSE_GB = cross_val_score(abc, X_train1, y_train, cv=2, scoring='neg_root_mean_squared_error')\n",
    "print(CV_RMSE_GB)\n",
    "print(\"Mean AUC Score - Gradient Boosting: \",CV_RMSE_GB.mean())\n"
   ]
  },
  {
   "cell_type": "code",
   "execution_count": 95,
   "id": "db787e8e",
   "metadata": {},
   "outputs": [],
   "source": [
    "submission=testdataset[['Id']]\n",
    "submission['SalePrice']=y_predict_test5\n",
    "submission.to_csv(\"results2.11.csv\", index = None)"
   ]
  },
  {
   "cell_type": "code",
   "execution_count": null,
   "id": "ad7f1fee",
   "metadata": {},
   "outputs": [],
   "source": []
  }
 ],
 "metadata": {
  "kernelspec": {
   "display_name": "Python 3 (ipykernel)",
   "language": "python",
   "name": "python3"
  },
  "language_info": {
   "codemirror_mode": {
    "name": "ipython",
    "version": 3
   },
   "file_extension": ".py",
   "mimetype": "text/x-python",
   "name": "python",
   "nbconvert_exporter": "python",
   "pygments_lexer": "ipython3",
   "version": "3.9.12"
  }
 },
 "nbformat": 4,
 "nbformat_minor": 5
}
